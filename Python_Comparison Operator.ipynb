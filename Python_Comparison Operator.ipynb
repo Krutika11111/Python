{
 "cells": [
  {
   "cell_type": "code",
   "execution_count": 4,
   "metadata": {},
   "outputs": [
    {
     "name": "stdout",
     "output_type": "stream",
     "text": [
      "x is not equal to y\n",
      "x is not equal to y\n",
      "x is not greater than y\n",
      "x is smaller than y\n",
      "x is not greater than or equal to y\n",
      " x is smaller than or equal to y\n"
     ]
    }
   ],
   "source": [
    "x=45\n",
    "y=90\n",
    "if(x==y): print(\"x is equal to y\")\n",
    "else: print(\"x is not equal to y\")\n",
    "\n",
    "if(x!=y): print(\"x is not equal to y\")\n",
    "else: print(\"x is equal to y\")\n",
    "    \n",
    "if(x>y): print(\"x is greater than y\")\n",
    "else: print(\"x is not greater than y\")\n",
    "\n",
    "if(x<y): print(\"x is smaller than y\")\n",
    "else: print(\"x is not smaller than y\")\n",
    "    \n",
    "if(x>=y): print(\"x is greater than or equal to y\")\n",
    "else: print(\"x is not greater than or equal to y\")\n",
    "    \n",
    "if(x<=y): print(\" x is smaller than or equal to y\")\n",
    "else: print(\"x is not smaller than or equal to y\")"
   ]
  },
  {
   "cell_type": "code",
   "execution_count": 2,
   "metadata": {},
   "outputs": [
    {
     "name": "stdout",
     "output_type": "stream",
     "text": [
      "a unicode is 97 A unicode is 65\n"
     ]
    }
   ],
   "source": [
    "x=\"a\"\n",
    "y=\"b\"\n",
    "print(\"a unicode is\", ord(\"a\"), \"A unicode is\", ord(\"A\"))"
   ]
  },
  {
   "cell_type": "code",
   "execution_count": 5,
   "metadata": {},
   "outputs": [
    {
     "name": "stdout",
     "output_type": "stream",
     "text": [
      "a unicode is 97 A unicode is 65\n",
      "x is not equal to y\n",
      "x is not equal to y\n",
      "x is greater than y\n",
      "x is not smaller than y\n",
      "x is greater than or equal to y\n",
      "x is not smaller than or equal to y\n"
     ]
    }
   ],
   "source": [
    "x=\"a\"\n",
    "y=\"A\"\n",
    "print(\"a unicode is\", ord(\"a\"), \"A unicode is\", ord(\"A\"))\n",
    "\n",
    "if(x==y): print(\"x is equal to y\")\n",
    "else: print(\"x is not equal to y\")\n",
    "\n",
    "if(x!=y): print(\"x is not equal to y\")\n",
    "else: print(\"x is equal to y\")\n",
    "    \n",
    "if(x>y): print(\"x is greater than y\")\n",
    "else: print(\"x is not greater than y\")\n",
    "\n",
    "if(x<y): print(\"x is smaller than y\")\n",
    "else: print(\"x is not smaller than y\")\n",
    "    \n",
    "if(x>=y): print(\"x is greater than or equal to y\")\n",
    "else: print(\"x is not greater than or equal to y\")\n",
    "    \n",
    "if(x<=y): print(\" x is smaller than or equal to y\")\n",
    "else: print(\"x is not smaller than or equal to y\")\n"
   ]
  },
  {
   "cell_type": "code",
   "execution_count": null,
   "metadata": {},
   "outputs": [],
   "source": []
  }
 ],
 "metadata": {
  "kernelspec": {
   "display_name": "Python 3",
   "language": "python",
   "name": "python3"
  },
  "language_info": {
   "codemirror_mode": {
    "name": "ipython",
    "version": 3
   },
   "file_extension": ".py",
   "mimetype": "text/x-python",
   "name": "python",
   "nbconvert_exporter": "python",
   "pygments_lexer": "ipython3",
   "version": "3.8.5"
  }
 },
 "nbformat": 4,
 "nbformat_minor": 4
}
