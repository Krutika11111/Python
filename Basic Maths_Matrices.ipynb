{
 "cells": [
  {
   "cell_type": "code",
   "execution_count": 4,
   "metadata": {},
   "outputs": [
    {
     "name": "stdout",
     "output_type": "stream",
     "text": [
      "The element wise addition of matrix is : \n",
      "[[12  8]\n",
      " [15 12]]\n",
      "The element wise subtraction of matrix is : \n",
      "[[-2 -4]\n",
      " [-3 -4]]\n",
      "The element wise division of matrix is : \n",
      "[[0.71428571 0.33333333]\n",
      " [0.66666667 0.5       ]]\n",
      "The element wise multiplication of matrix is :\n",
      "[[35 12]\n",
      " [54 32]]\n",
      "Matrix transposion\n",
      "[[5 6]\n",
      " [2 4]]\n"
     ]
    }
   ],
   "source": [
    "# importing numpy for matrix operations \n",
    "import numpy \n",
    "  \n",
    "# initializing matrices \n",
    "x = numpy.array([[5, 2], [6, 4]]) \n",
    "y = numpy.array([[7, 6], [9, 8]]) \n",
    "  \n",
    "print (\"The element wise addition of matrix is : \") \n",
    "print (numpy.add(x,y)) \n",
    " \n",
    "print (\"The element wise subtraction of matrix is : \") \n",
    "print (numpy.subtract(x,y)) \n",
    "   \n",
    "print (\"The element wise division of matrix is : \") \n",
    "print (numpy.divide(x,y)) \n",
    " \n",
    "print (\"The element wise multiplication of matrix is :\")\n",
    "print (numpy.multiply(x,y))\n",
    "\n",
    "print (\"Matrix transposion\")\n",
    "print (x.T)"
   ]
  },
  {
   "cell_type": "code",
   "execution_count": null,
   "metadata": {},
   "outputs": [],
   "source": []
  },
  {
   "cell_type": "code",
   "execution_count": null,
   "metadata": {},
   "outputs": [],
   "source": []
  }
 ],
 "metadata": {
  "kernelspec": {
   "display_name": "Python 3",
   "language": "python",
   "name": "python3"
  },
  "language_info": {
   "codemirror_mode": {
    "name": "ipython",
    "version": 3
   },
   "file_extension": ".py",
   "mimetype": "text/x-python",
   "name": "python",
   "nbconvert_exporter": "python",
   "pygments_lexer": "ipython3",
   "version": "3.8.5"
  }
 },
 "nbformat": 4,
 "nbformat_minor": 4
}
