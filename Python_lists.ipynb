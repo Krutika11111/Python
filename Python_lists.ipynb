{
 "cells": [
  {
   "cell_type": "code",
   "execution_count": 5,
   "metadata": {},
   "outputs": [
    {
     "name": "stdout",
     "output_type": "stream",
     "text": [
      "[10, 15, -13, 12.5, 'hello', 'python']\n"
     ]
    }
   ],
   "source": [
    "#creating a list\n",
    "a=[10,15,-13,12.5,\"hello\",\"python\"]\n",
    "print(a)"
   ]
  },
  {
   "cell_type": "code",
   "execution_count": 6,
   "metadata": {},
   "outputs": [
    {
     "name": "stdout",
     "output_type": "stream",
     "text": [
      "10\n",
      "15\n",
      "-13\n",
      "12.5\n",
      "hello\n",
      "python\n"
     ]
    }
   ],
   "source": [
    "#accessing list\n",
    "a=[10,15,-13,12.5,\"hello\",\"python\"]\n",
    "print(a[0])\n",
    "print(a[1])\n",
    "print(a[2])\n",
    "print(a[3])\n",
    "print(a[4])\n",
    "print(a[5])"
   ]
  },
  {
   "cell_type": "code",
   "execution_count": 7,
   "metadata": {},
   "outputs": [
    {
     "name": "stdout",
     "output_type": "stream",
     "text": [
      "10\n",
      "15\n",
      "-13\n",
      "12.5\n",
      "hello\n",
      "python\n"
     ]
    }
   ],
   "source": [
    "#ccessing list\n",
    "a=[10,15,-13,12.5,\"hello\",\"python\"]\n",
    "print(a[-6])\n",
    "print(a[-5])\n",
    "print(a[-4])\n",
    "print(a[-3])\n",
    "print(a[-2])\n",
    "print(a[-1])"
   ]
  },
  {
   "cell_type": "code",
   "execution_count": 11,
   "metadata": {},
   "outputs": [
    {
     "name": "stdout",
     "output_type": "stream",
     "text": [
      "15\n",
      "60\n",
      "[10, 60, -13, 12.5, 'hello', 'python']\n"
     ]
    }
   ],
   "source": [
    "#modifing elements in list\n",
    "a=[10,15,-13,12.5,\"hello\",\"python\"]\n",
    "print(a[1])\n",
    "a[1]=60\n",
    "print(a[1])\n",
    "print(a)\n"
   ]
  },
  {
   "cell_type": "code",
   "execution_count": 16,
   "metadata": {},
   "outputs": [
    {
     "name": "stdout",
     "output_type": "stream",
     "text": [
      "12.5\n",
      "[10, 15, -13, 'hello', 'python']\n"
     ]
    }
   ],
   "source": [
    "#deleting element in list\n",
    "a=[10,15,-13,12.5,\"hello\",\"python\"]\n",
    "print(a[3])\n",
    "del(a[3])\n",
    "print(a)\n"
   ]
  },
  {
   "cell_type": "code",
   "execution_count": null,
   "metadata": {},
   "outputs": [],
   "source": []
  }
 ],
 "metadata": {
  "kernelspec": {
   "display_name": "Python 3",
   "language": "python",
   "name": "python3"
  },
  "language_info": {
   "codemirror_mode": {
    "name": "ipython",
    "version": 3
   },
   "file_extension": ".py",
   "mimetype": "text/x-python",
   "name": "python",
   "nbconvert_exporter": "python",
   "pygments_lexer": "ipython3",
   "version": "3.8.5"
  }
 },
 "nbformat": 4,
 "nbformat_minor": 4
}
