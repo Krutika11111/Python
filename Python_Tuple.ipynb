{
 "cells": [
  {
   "cell_type": "code",
   "execution_count": 1,
   "metadata": {},
   "outputs": [
    {
     "name": "stdout",
     "output_type": "stream",
     "text": [
      "(10,)\n",
      "<class 'tuple'>\n"
     ]
    }
   ],
   "source": [
    "#creating a tuple\n",
    "a=(10,)\n",
    "print(a)\n",
    "print(type(a))"
   ]
  },
  {
   "cell_type": "code",
   "execution_count": 2,
   "metadata": {},
   "outputs": [
    {
     "name": "stdout",
     "output_type": "stream",
     "text": [
      "(30, -3, 'night', 9.8, 'morning')\n"
     ]
    }
   ],
   "source": [
    "#creating a tuple\n",
    "b=(30,-3,\"night\",9.8,\"morning\")\n",
    "print(b)"
   ]
  },
  {
   "cell_type": "code",
   "execution_count": 3,
   "metadata": {},
   "outputs": [
    {
     "name": "stdout",
     "output_type": "stream",
     "text": [
      "30\n",
      "-3\n",
      "night\n",
      "9.8\n",
      "morning\n"
     ]
    }
   ],
   "source": [
    "#accessing elements in tuple\n",
    "b=(30,-3,\"night\",9.8,\"morning\")\n",
    "print(b[0])\n",
    "print(b[1])\n",
    "print(b[2])\n",
    "print(b[3])\n",
    "print(b[4])\n"
   ]
  },
  {
   "cell_type": "code",
   "execution_count": 4,
   "metadata": {},
   "outputs": [
    {
     "name": "stdout",
     "output_type": "stream",
     "text": [
      "30\n",
      "-3\n",
      "night\n",
      "9.8\n",
      "morning\n"
     ]
    }
   ],
   "source": [
    "#accessing elements in tuple\n",
    "b=(30,-3,\"night\",9.8,\"morning\")\n",
    "print(b[-5])\n",
    "print(b[-4])\n",
    "print(b[-3])\n",
    "print(b[-2])\n",
    "print(b[-1])\n"
   ]
  },
  {
   "cell_type": "code",
   "execution_count": 9,
   "metadata": {},
   "outputs": [],
   "source": []
  },
  {
   "cell_type": "code",
   "execution_count": null,
   "metadata": {},
   "outputs": [],
   "source": []
  }
 ],
 "metadata": {
  "kernelspec": {
   "display_name": "Python 3",
   "language": "python",
   "name": "python3"
  },
  "language_info": {
   "codemirror_mode": {
    "name": "ipython",
    "version": 3
   },
   "file_extension": ".py",
   "mimetype": "text/x-python",
   "name": "python",
   "nbconvert_exporter": "python",
   "pygments_lexer": "ipython3",
   "version": "3.8.5"
  }
 },
 "nbformat": 4,
 "nbformat_minor": 4
}
