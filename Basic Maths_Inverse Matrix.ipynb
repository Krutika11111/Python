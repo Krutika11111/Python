{
 "cells": [
  {
   "cell_type": "code",
   "execution_count": 2,
   "metadata": {},
   "outputs": [
    {
     "name": "stdout",
     "output_type": "stream",
     "text": [
      "[[ 1.4  1.8 -5.2]\n",
      " [-1.8 -2.6  7.4]\n",
      " [-0.8 -0.6  2.4]]\n"
     ]
    }
   ],
   "source": [
    "\n",
    "# Python program to inverse \n",
    "# a matrix using numpy \n",
    "  \n",
    "# Import required package \n",
    "import numpy as np \n",
    "  \n",
    "# Taking a 3 * 3 matrix \n",
    "A = np.array([[9, 6, 1], \n",
    "              [8, 4, 5], \n",
    "              [5, 3, 2]]) \n",
    "  \n",
    "# Calculating the inverse of the matrix \n",
    "print(np.linalg.inv(A))\n"
   ]
  },
  {
   "cell_type": "code",
   "execution_count": null,
   "metadata": {},
   "outputs": [],
   "source": []
  }
 ],
 "metadata": {
  "kernelspec": {
   "display_name": "Python 3",
   "language": "python",
   "name": "python3"
  },
  "language_info": {
   "codemirror_mode": {
    "name": "ipython",
    "version": 3
   },
   "file_extension": ".py",
   "mimetype": "text/x-python",
   "name": "python",
   "nbconvert_exporter": "python",
   "pygments_lexer": "ipython3",
   "version": "3.8.5"
  }
 },
 "nbformat": 4,
 "nbformat_minor": 4
}
