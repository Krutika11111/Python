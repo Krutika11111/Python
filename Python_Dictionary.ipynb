{
 "cells": [
  {
   "cell_type": "code",
   "execution_count": 1,
   "metadata": {},
   "outputs": [
    {
     "name": "stdout",
     "output_type": "stream",
     "text": [
      "{}\n"
     ]
    }
   ],
   "source": [
    "#creating empty dictionary\n",
    "d={}\n",
    "print(d)"
   ]
  },
  {
   "cell_type": "code",
   "execution_count": 2,
   "metadata": {},
   "outputs": [
    {
     "name": "stdout",
     "output_type": "stream",
     "text": [
      "{101: 'Tina', 102: 'Karan', 103: 'Raj', 104: 'Jay'}\n"
     ]
    }
   ],
   "source": [
    "#creating dictionary with elements\n",
    "stu={101:\"Tina\", 102:\"Karan\", 103:\"Raj\", 104:\"Jay\"}\n",
    "print(stu)"
   ]
  },
  {
   "cell_type": "code",
   "execution_count": 3,
   "metadata": {},
   "outputs": [
    {
     "name": "stdout",
     "output_type": "stream",
     "text": [
      "Tina\n",
      "Karan\n",
      "Raj\n",
      "Jay\n"
     ]
    }
   ],
   "source": [
    "#accessing elements from disctionary\n",
    "stu={101:\"Tina\", 102:\"Karan\", 103:\"Raj\", 104:\"Jay\"}\n",
    "print(stu[101])\n",
    "print(stu[102])\n",
    "print(stu[103])\n",
    "print(stu[104])\n"
   ]
  },
  {
   "cell_type": "code",
   "execution_count": 9,
   "metadata": {},
   "outputs": [
    {
     "data": {
      "text/plain": [
       "{102: 'Karan', 103: 'Raj', 104: 'Jay'}"
      ]
     },
     "execution_count": 9,
     "metadata": {},
     "output_type": "execute_result"
    }
   ],
   "source": [
    "#deleting elements from dictionary\n",
    "stu={101:\"Tina\", 102:\"Karan\", 103:\"Raj\", 104:\"Jay\"}\n",
    "del(stu[101])\n",
    "stu\n",
    "\n",
    "\n"
   ]
  },
  {
   "cell_type": "code",
   "execution_count": 10,
   "metadata": {},
   "outputs": [
    {
     "data": {
      "text/plain": [
       "{101: 'Tina', 102: 'Karan', 103: 'Raj'}"
      ]
     },
     "execution_count": 10,
     "metadata": {},
     "output_type": "execute_result"
    }
   ],
   "source": [
    "#deleting elements from dictionary\n",
    "stu={101:\"Tina\", 102:\"Karan\", 103:\"Raj\", 104:\"Jay\"}\n",
    "del(stu[104])\n",
    "stu\n"
   ]
  },
  {
   "cell_type": "code",
   "execution_count": null,
   "metadata": {},
   "outputs": [],
   "source": []
  }
 ],
 "metadata": {
  "kernelspec": {
   "display_name": "Python 3",
   "language": "python",
   "name": "python3"
  },
  "language_info": {
   "codemirror_mode": {
    "name": "ipython",
    "version": 3
   },
   "file_extension": ".py",
   "mimetype": "text/x-python",
   "name": "python",
   "nbconvert_exporter": "python",
   "pygments_lexer": "ipython3",
   "version": "3.8.5"
  }
 },
 "nbformat": 4,
 "nbformat_minor": 4
}
